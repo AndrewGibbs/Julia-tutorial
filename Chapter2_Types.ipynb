{
 "cells": [
  {
   "cell_type": "markdown",
   "metadata": {},
   "source": [
    "# TUTORIAL:\n",
    "# Julia for technical computing"
   ]
  },
  {
   "cell_type": "markdown",
   "metadata": {},
   "source": [
    "# Chapter 2: Types and type inference"
   ]
  },
  {
   "cell_type": "markdown",
   "metadata": {},
   "source": [
    "We have already encounted a few types, including the numeric types `Int64`, `Float64`. **Writing Julia revolves a lot around types**. You will be making lots of them, and using them all the time. You can be generous with new types, they are not scarce. Sometimes code you write creates types implicitly just to get things done - in that case the type is essentially a use-once-throw-away commodity.\n",
    "\n",
    "Just make sure that, at the end of the day, you still have $O(1)$ types and not $O(N)$: remember that Julia makes specialized versions of functions for each combination of types that you use for arguments. Adding types increases the size of your code and adds to the compilation overhead.\n",
    "\n",
    "But what are *types*? All variables have a type. It is **compiler metadata** that describes what your variable stands for. Julia types compare a little bit to classes in an object-oriented language, but one should not stretch the comparison too much. Types do support inheritance. However, you are well advised to **resist that initial urge to create a fancy hierarchical tree of types like you would in OOP**: there is no need for that. The best reason to use types in Julia (and some would say the only reason) is to use *multiple dispatch*, and that is the topic of the next chapter.\n",
    "\n",
    "Without multiple dispatch it is hard to convey the richness of the type system. Still, we have a quite a few things to discover already. As usual, the [manual](http://docs.julialang.org/en/release-0.4/manual/types/) is more complete than our set of examples."
   ]
  },
  {
   "cell_type": "markdown",
   "metadata": {
    "collapsed": true
   },
   "source": [
    "### A note about development\n",
    "\n",
    "You can not redefine existing types in the Julia workspace. This means that once you have defined `MyType`, you can not change its definition anymore. You can clear the current workspace with the command `workspace()`. While developing a larger program a good practice is to do all development inside a [module](http://docs.julialang.org/en/release-0.4/manual/modules/). You can reload a module and all definitions will be reloaded.\n",
    "\n",
    "Another thing: for the time being, Julia does not keep track of code dependencies. If you change a function and pass it through the compiler again, Julia will not automatically recompile every other function which used the original verion of your function. It may have been inlined somewhere in its old version. This is different from Matlab, where if you change a function it will instantly be used everywhere. This behaviour could change in the future. If you write your code in a module, reloading the module is sufficient."
   ]
  },
  {
   "cell_type": "markdown",
   "metadata": {
    "collapsed": true
   },
   "source": [
    "## 1. Type definition\n",
    "\n",
    "### Composite types\n",
    "\n",
    "You can compare a Julia type with a struct in C: it is an object that collects data. Member data are called fields. The data can be named and you define a type by listing the names of its fields.\n",
    "\n",
    "You don't need to specify types of fields, but things will be more efficient when you do. Here is a first example:"
   ]
  },
  {
   "cell_type": "code",
   "execution_count": 1,
   "metadata": {
    "collapsed": false
   },
   "outputs": [],
   "source": [
    "type MyType\n",
    "    a\n",
    "end"
   ]
  },
  {
   "cell_type": "markdown",
   "metadata": {},
   "source": [
    "The field `a` can be anything. Once you assign it a value, Julia will deduce its type. However, if the Julia compiler sees a `MyType` somewhere during compilation, it has no way to know in advance what the type of `a` will be, and so it will emit general (slower) code.\n",
    "\n",
    "Here are some examples:"
   ]
  },
  {
   "cell_type": "code",
   "execution_count": 2,
   "metadata": {
    "collapsed": false
   },
   "outputs": [
    {
     "data": {
      "text/plain": [
       "MyType(5)"
      ]
     },
     "execution_count": 2,
     "metadata": {},
     "output_type": "execute_result"
    }
   ],
   "source": [
    "v = MyType(5)    # We instantiate an object of type MyType. There is a default constructor."
   ]
  },
  {
   "cell_type": "code",
   "execution_count": 3,
   "metadata": {
    "collapsed": false
   },
   "outputs": [
    {
     "data": {
      "text/plain": [
       "5"
      ]
     },
     "execution_count": 3,
     "metadata": {},
     "output_type": "execute_result"
    }
   ],
   "source": [
    "v.a"
   ]
  },
  {
   "cell_type": "code",
   "execution_count": 4,
   "metadata": {
    "collapsed": false
   },
   "outputs": [
    {
     "data": {
      "text/plain": [
       "MyType"
      ]
     },
     "execution_count": 4,
     "metadata": {},
     "output_type": "execute_result"
    }
   ],
   "source": [
    "typeof(v)"
   ]
  },
  {
   "cell_type": "code",
   "execution_count": 5,
   "metadata": {
    "collapsed": false
   },
   "outputs": [
    {
     "data": {
      "text/plain": [
       "Int64"
      ]
     },
     "execution_count": 5,
     "metadata": {},
     "output_type": "execute_result"
    }
   ],
   "source": [
    "typeof(v.a)"
   ]
  },
  {
   "cell_type": "code",
   "execution_count": 6,
   "metadata": {
    "collapsed": false
   },
   "outputs": [
    {
     "data": {
      "text/plain": [
       "MyType(5.0)"
      ]
     },
     "execution_count": 6,
     "metadata": {},
     "output_type": "execute_result"
    }
   ],
   "source": [
    "v2 = MyType(5.0)"
   ]
  },
  {
   "cell_type": "code",
   "execution_count": 7,
   "metadata": {
    "collapsed": false
   },
   "outputs": [
    {
     "data": {
      "text/plain": [
       "MyType"
      ]
     },
     "execution_count": 7,
     "metadata": {},
     "output_type": "execute_result"
    }
   ],
   "source": [
    "typeof(v2)"
   ]
  },
  {
   "cell_type": "code",
   "execution_count": 8,
   "metadata": {
    "collapsed": false
   },
   "outputs": [
    {
     "data": {
      "text/plain": [
       "Float64"
      ]
     },
     "execution_count": 8,
     "metadata": {},
     "output_type": "execute_result"
    }
   ],
   "source": [
    "typeof(v2.a)"
   ]
  },
  {
   "cell_type": "code",
   "execution_count": 9,
   "metadata": {
    "collapsed": false
   },
   "outputs": [
    {
     "data": {
      "text/plain": [
       "\"Now I am a string\""
      ]
     },
     "execution_count": 9,
     "metadata": {},
     "output_type": "execute_result"
    }
   ],
   "source": [
    "v2.a = \"Now I am a string\"      # This is allowed. The type of a is not restricted, and it can change."
   ]
  },
  {
   "cell_type": "code",
   "execution_count": 10,
   "metadata": {
    "collapsed": false
   },
   "outputs": [
    {
     "data": {
      "text/plain": [
       "MyType(\"Now I am a string\")"
      ]
     },
     "execution_count": 10,
     "metadata": {},
     "output_type": "execute_result"
    }
   ],
   "source": [
    "v2"
   ]
  },
  {
   "cell_type": "markdown",
   "metadata": {},
   "source": [
    "### Typed fields lead to more efficient code"
   ]
  },
  {
   "cell_type": "markdown",
   "metadata": {},
   "source": [
    "Use untyped fields when you care about flexibility and simplicity more than performance. They do have unavoidable runtime overhead, so don't use untyped fields in a time-critical path of your code. In that case, do the following:"
   ]
  },
  {
   "cell_type": "code",
   "execution_count": 11,
   "metadata": {
    "collapsed": true
   },
   "outputs": [],
   "source": [
    "type MyType2\n",
    "    a :: Float64\n",
    "end"
   ]
  },
  {
   "cell_type": "markdown",
   "metadata": {},
   "source": [
    "The type of field `a` is `Float64` and the compiler knows it: whenever an object of type `MyType2` comes along, Julia knows that field `a` is a `Float64` and so it will produce code accordingly."
   ]
  },
  {
   "cell_type": "code",
   "execution_count": 12,
   "metadata": {
    "collapsed": false
   },
   "outputs": [
    {
     "data": {
      "text/plain": [
       "MyType2(2.0)"
      ]
     },
     "execution_count": 12,
     "metadata": {},
     "output_type": "execute_result"
    }
   ],
   "source": [
    "v = MyType2(2)      # Note the integer I've supplied is automatically converted to a float"
   ]
  },
  {
   "cell_type": "code",
   "execution_count": 13,
   "metadata": {
    "collapsed": false
   },
   "outputs": [
    {
     "data": {
      "text/plain": [
       "4.0"
      ]
     },
     "execution_count": 13,
     "metadata": {},
     "output_type": "execute_result"
    }
   ],
   "source": [
    "v.a = 4.0"
   ]
  },
  {
   "cell_type": "code",
   "execution_count": 14,
   "metadata": {
    "collapsed": false
   },
   "outputs": [
    {
     "ename": "LoadError",
     "evalue": "LoadError: MethodError: `convert` has no method matching convert(::Type{Float64}, ::ASCIIString)\nThis may have arisen from a call to the constructor Float64(...),\nsince type constructors fall back to convert methods.\nClosest candidates are:\n  call{T}(::Type{T}, ::Any)\n  convert(::Type{Float64}, !Matched::Int8)\n  convert(::Type{Float64}, !Matched::Int16)\n  ...\nwhile loading In[14], in expression starting on line 1",
     "output_type": "error",
     "traceback": [
      "LoadError: MethodError: `convert` has no method matching convert(::Type{Float64}, ::ASCIIString)\nThis may have arisen from a call to the constructor Float64(...),\nsince type constructors fall back to convert methods.\nClosest candidates are:\n  call{T}(::Type{T}, ::Any)\n  convert(::Type{Float64}, !Matched::Int8)\n  convert(::Type{Float64}, !Matched::Int16)\n  ...\nwhile loading In[14], in expression starting on line 1",
      ""
     ]
    }
   ],
   "source": [
    "v.a = \"This won't work because I'm a string\""
   ]
  },
  {
   "cell_type": "markdown",
   "metadata": {},
   "source": [
    "The last statement gave an error and it was obvious we were doing something that was not allowed. In general, Julia does not try very hard to prevent you from making mistakes. Julia tries to make your code run fast. The main reason for typing fields is not to prevent a user of your type from assigning values to it you were not expecting. The main reason is that the compiler knows *at compile-time* what the type of v.a is going to be, so that all uses of it can be optimized.\n",
    "\n",
    "Of course, helpful error messages are, well, helpful. They can be expected to improve in time, as long as they don't impact speed. If you are expecting variables to have a certain type in your code and you want to enforce this, you can use [assertions](http://julia.readthedocs.org/en/latest/manual/types/#type-declarations)."
   ]
  },
  {
   "cell_type": "markdown",
   "metadata": {},
   "source": [
    "Before we move on, I said typed fields are more efficient and expected you to believe it. But let's do the experiment."
   ]
  },
  {
   "cell_type": "code",
   "execution_count": 15,
   "metadata": {
    "collapsed": false
   },
   "outputs": [
    {
     "data": {
      "text/plain": [
       "add_field_values_many_times (generic function with 1 method)"
      ]
     },
     "execution_count": 15,
     "metadata": {},
     "output_type": "execute_result"
    }
   ],
   "source": [
    "function add_field_values_many_times(m)\n",
    "    z = 0.0\n",
    "    for i = 1:10000\n",
    "        z = z + m.a\n",
    "    end\n",
    "end"
   ]
  },
  {
   "cell_type": "markdown",
   "metadata": {},
   "source": [
    "We compare `MyType` and `MyType2`:"
   ]
  },
  {
   "cell_type": "code",
   "execution_count": 18,
   "metadata": {
    "collapsed": false
   },
   "outputs": [
    {
     "name": "stdout",
     "output_type": "stream",
     "text": [
      "  0.000170 seconds (10.01 k allocations: 156.438 KB)\n"
     ]
    }
   ],
   "source": [
    "add_field_values_many_times(MyType(10.0))\n",
    "@time add_field_values_many_times(MyType(10.0))"
   ]
  },
  {
   "cell_type": "code",
   "execution_count": 19,
   "metadata": {
    "collapsed": false
   },
   "outputs": [
    {
     "name": "stdout",
     "output_type": "stream",
     "text": [
      "  0.000001 seconds (5 allocations: 176 bytes)\n"
     ]
    }
   ],
   "source": [
    "add_field_values_many_times(MyType2(10.0))\n",
    "@time add_field_values_many_times(MyType2(10.0))"
   ]
  },
  {
   "cell_type": "markdown",
   "metadata": {
    "collapsed": true
   },
   "source": [
    "The timing difference is perhaps not enormous, but certainly more than significant. `MyType2` is faster than `MyType`, because in the former case Julia knows the type of the field `a`. Compare also the memory usage: manipulations with untyped fields lead to memory allocations, manipulations with typed fields apparently don't. At least in this case.\n",
    "\n",
    "Julia tries to be fast even if you don't type your field values, and perhaps it will be faster still in the future. However, **if you help the compiler, the compiler helps you**. Make sure the compiler knows types of your variables, and more specialized and more efficient code will be the result."
   ]
  },
  {
   "cell_type": "markdown",
   "metadata": {},
   "source": [
    "### Immutable types"
   ]
  },
  {
   "cell_type": "code",
   "execution_count": 20,
   "metadata": {
    "collapsed": true
   },
   "outputs": [],
   "source": [
    "immutable Euro\n",
    "    val  :: Float64\n",
    "end"
   ]
  },
  {
   "cell_type": "markdown",
   "metadata": {},
   "source": [
    "The `Euro` type is declared to be *immutable*. That means you can not change it after it has been instantiated. Knowing this allows for more compiler optimizations and simpler memory management. Any object of type `Euro` is, for all intents and purposes, equivalent to a `Float64`. The compiler will treat it as such, and a lot of the overhead of instantiating and manipulating types will be optimized away in the final machine instructions."
   ]
  },
  {
   "cell_type": "code",
   "execution_count": 21,
   "metadata": {
    "collapsed": false
   },
   "outputs": [
    {
     "data": {
      "text/plain": [
       "Euro(10.0)"
      ]
     },
     "execution_count": 21,
     "metadata": {},
     "output_type": "execute_result"
    }
   ],
   "source": [
    "e = Euro(10)"
   ]
  },
  {
   "cell_type": "code",
   "execution_count": 22,
   "metadata": {
    "collapsed": false
   },
   "outputs": [
    {
     "ename": "LoadError",
     "evalue": "LoadError: type Euro is immutable\nwhile loading In[22], in expression starting on line 1",
     "output_type": "error",
     "traceback": [
      "LoadError: type Euro is immutable\nwhile loading In[22], in expression starting on line 1",
      ""
     ]
    }
   ],
   "source": [
    "e.val = 12        # No can do - the object is immutable"
   ]
  },
  {
   "cell_type": "code",
   "execution_count": 23,
   "metadata": {
    "collapsed": false
   },
   "outputs": [
    {
     "data": {
      "text/plain": [
       "10.0"
      ]
     },
     "execution_count": 23,
     "metadata": {},
     "output_type": "execute_result"
    }
   ],
   "source": [
    "e.val"
   ]
  },
  {
   "cell_type": "code",
   "execution_count": 24,
   "metadata": {
    "collapsed": false
   },
   "outputs": [
    {
     "data": {
      "text/plain": [
       "Float64"
      ]
     },
     "execution_count": 24,
     "metadata": {},
     "output_type": "execute_result"
    }
   ],
   "source": [
    "typeof(e.val)"
   ]
  },
  {
   "cell_type": "code",
   "execution_count": 25,
   "metadata": {
    "collapsed": false
   },
   "outputs": [
    {
     "data": {
      "text/plain": [
       "Euro"
      ]
     },
     "execution_count": 25,
     "metadata": {},
     "output_type": "execute_result"
    }
   ],
   "source": [
    "typeof(e)"
   ]
  },
  {
   "cell_type": "code",
   "execution_count": null,
   "metadata": {
    "collapsed": true
   },
   "outputs": [],
   "source": []
  },
  {
   "cell_type": "markdown",
   "metadata": {},
   "source": [
    "How much space would an array of `Euro`'s take in memory? Let's check it out. Here is how much space an array of floating point numbers takes:"
   ]
  },
  {
   "cell_type": "code",
   "execution_count": 26,
   "metadata": {
    "collapsed": false
   },
   "outputs": [
    {
     "data": {
      "text/plain": [
       "160"
      ]
     },
     "execution_count": 26,
     "metadata": {},
     "output_type": "execute_result"
    }
   ],
   "source": [
    "float_list = Array(Float64, 20)\n",
    "sizeof(float_list)"
   ]
  },
  {
   "cell_type": "markdown",
   "metadata": {},
   "source": [
    "And the same for `Euro`'s:"
   ]
  },
  {
   "cell_type": "code",
   "execution_count": 27,
   "metadata": {
    "collapsed": false
   },
   "outputs": [
    {
     "data": {
      "text/plain": [
       "160"
      ]
     },
     "execution_count": 27,
     "metadata": {},
     "output_type": "execute_result"
    }
   ],
   "source": [
    "euro_list = Array(Euro, 20)\n",
    "sizeof(euro_list)"
   ]
  },
  {
   "cell_type": "markdown",
   "metadata": {},
   "source": [
    "It is exactly the same size in memory. There is no overhead to the `Euro` type in arrays: it acts like a list of floating point numbers.\n",
    "\n",
    "We return to the `Euro` example shortly, in the next section."
   ]
  },
  {
   "cell_type": "markdown",
   "metadata": {},
   "source": [
    "### Singleton types\n",
    "\n",
    "Types can also be completely empty. They are called *singleton types*. There is only one instance of it, which explains why in the code below `e == f` returns true."
   ]
  },
  {
   "cell_type": "code",
   "execution_count": 28,
   "metadata": {
    "collapsed": true
   },
   "outputs": [],
   "source": [
    "immutable IAmEmpty\n",
    "end"
   ]
  },
  {
   "cell_type": "code",
   "execution_count": 29,
   "metadata": {
    "collapsed": false
   },
   "outputs": [
    {
     "data": {
      "text/plain": [
       "IAmEmpty()"
      ]
     },
     "execution_count": 29,
     "metadata": {},
     "output_type": "execute_result"
    }
   ],
   "source": [
    "e = IAmEmpty()"
   ]
  },
  {
   "cell_type": "code",
   "execution_count": 30,
   "metadata": {
    "collapsed": false
   },
   "outputs": [
    {
     "data": {
      "text/plain": [
       "IAmEmpty()"
      ]
     },
     "execution_count": 30,
     "metadata": {},
     "output_type": "execute_result"
    }
   ],
   "source": [
    "f = IAmEmpty()"
   ]
  },
  {
   "cell_type": "code",
   "execution_count": 31,
   "metadata": {
    "collapsed": false
   },
   "outputs": [
    {
     "data": {
      "text/plain": [
       "true"
      ]
     },
     "execution_count": 31,
     "metadata": {},
     "output_type": "execute_result"
    }
   ],
   "source": [
    "e==f"
   ]
  },
  {
   "cell_type": "markdown",
   "metadata": {},
   "source": [
    "These types may look strange to you, since they contain no data. What is the point? They may remind you of static classes and static variables in C++, of which there is also always just one. And indeed we can use singleton types to achieve similar things. But more importantly, even without data, singleton **types carry some sort of meaning**, as Julia types frequently do.\n",
    "\n",
    "Let's discuss what is the *meaning* of a type using the `Euro` example above. We'll do that in combination with functions."
   ]
  },
  {
   "cell_type": "markdown",
   "metadata": {
    "collapsed": true
   },
   "source": [
    "## 2. Functions again, this time with types"
   ]
  },
  {
   "cell_type": "markdown",
   "metadata": {},
   "source": [
    "### Types add meaning to variables\n",
    "\n",
    "If the `Euro` type is pretty much equivalent to a `Float64`, why bother making a new type for it? Can't we make an alias for `Float64` and call that `Euro`, wouldn't that be simpler?\n",
    "\n",
    "In this case, you can think of the type as adding *meaning* to the floating point value. **The type carries metadata**. This meaning exists only in the compiler, and for the most part only at compile-time. It is near invisible, and in particular cost-free, at runtime. But it allows you to express that certain functions, which manipulate floating point values, are meant to work with currency values.\n",
    "\n",
    "\n",
    "You can make functions apply only to arguments of certain type, by adding the type after a double colon `::`. For example:"
   ]
  },
  {
   "cell_type": "code",
   "execution_count": 32,
   "metadata": {
    "collapsed": false
   },
   "outputs": [
    {
     "data": {
      "text/plain": [
       "value (generic function with 1 method)"
      ]
     },
     "execution_count": 32,
     "metadata": {},
     "output_type": "execute_result"
    }
   ],
   "source": [
    "value(e::Euro) = e.val"
   ]
  },
  {
   "cell_type": "code",
   "execution_count": 33,
   "metadata": {
    "collapsed": false
   },
   "outputs": [
    {
     "data": {
      "text/plain": [
       "10.0"
      ]
     },
     "execution_count": 33,
     "metadata": {},
     "output_type": "execute_result"
    }
   ],
   "source": [
    "e = Euro(10)\n",
    "value(e)"
   ]
  },
  {
   "cell_type": "markdown",
   "metadata": {},
   "source": [
    "If you write code passing around and manipulating `Euro`'s in terms of the `value` function, then your code is independent of the way this type stores the actual value. Good old computer science techniques there, **abstraction and encapsulation**! In most cases, the calls to `value` will be optimized away (inlined) after compilation, so there is no overhead. Abstraction without overhead could be a mantra of technical computing."
   ]
  },
  {
   "cell_type": "markdown",
   "metadata": {},
   "source": [
    "Note that in Julia you don't say `currency_value(e)`, you just say `value(e)`. The fact that it is about currency is encoded in the type of `e`, not in the function name. The word `value` is generic. It may apply to different things, not just to `Euro`.\n",
    "\n",
    "You also don't say `e.value()`. In the Julia type system, the function `value` does not belong to `e` as in `e.value()`, it exists separately. Types have fields, which contain data, but **types do not have member functions**."
   ]
  },
  {
   "cell_type": "markdown",
   "metadata": {},
   "source": [
    "We can define what the `value` function does for arguments of different type. In that case, we may mean something different. **The combination of the function name and the types of its arguments determines the operation you want to perform.**"
   ]
  },
  {
   "cell_type": "code",
   "execution_count": 34,
   "metadata": {
    "collapsed": false
   },
   "outputs": [
    {
     "data": {
      "text/plain": [
       "value (generic function with 2 methods)"
      ]
     },
     "execution_count": 34,
     "metadata": {},
     "output_type": "execute_result"
    }
   ],
   "source": [
    "immutable Car\n",
    "    price :: Float64\n",
    "end\n",
    "\n",
    "value(car::Car) = car.price"
   ]
  },
  {
   "cell_type": "code",
   "execution_count": 35,
   "metadata": {
    "collapsed": false
   },
   "outputs": [
    {
     "data": {
      "text/plain": [
       "500.0"
      ]
     },
     "execution_count": 35,
     "metadata": {},
     "output_type": "execute_result"
    }
   ],
   "source": [
    "c = Car(500)\n",
    "value(c)"
   ]
  },
  {
   "cell_type": "markdown",
   "metadata": {},
   "source": [
    "Julia knows you were asking about the value of a car, not of a Euro, because the type of `c` is `Car`. Julia selected the right function, the one we defined for `Car` and not the one we defined for `Euro`. This is what we mean by **dispatch**. For the time being, it looks like function overloading as in C or C++."
   ]
  },
  {
   "cell_type": "code",
   "execution_count": null,
   "metadata": {
    "collapsed": true
   },
   "outputs": [],
   "source": []
  },
  {
   "cell_type": "markdown",
   "metadata": {},
   "source": [
    "The following is just for fun. You can redefine the `show` function to modify how Julia displays your type. This function exists in a standard [module](http://docs.julialang.org/en/release-0.4/manual/modules/) called `Base`. I have used [string interpolation](http://docs.julialang.org/en/release-0.4/manual/strings#interpolation) in the process. I obtained the Euro symbol by typing \\euro followed by `<TAB>` in the Jupyter notebook."
   ]
  },
  {
   "cell_type": "code",
   "execution_count": 36,
   "metadata": {
    "collapsed": false
   },
   "outputs": [
    {
     "data": {
      "text/plain": [
       "show (generic function with 111 methods)"
      ]
     },
     "execution_count": 36,
     "metadata": {},
     "output_type": "execute_result"
    }
   ],
   "source": [
    "import Base: show\n",
    "\n",
    "show(io::Base.IO, v::Euro) = print(io, \"$(round(100*value(v))/100) €\")"
   ]
  },
  {
   "cell_type": "code",
   "execution_count": 37,
   "metadata": {
    "collapsed": false
   },
   "outputs": [
    {
     "data": {
      "text/plain": [
       "3.0 €"
      ]
     },
     "execution_count": 37,
     "metadata": {},
     "output_type": "execute_result"
    }
   ],
   "source": [
    "Euro(3)"
   ]
  },
  {
   "cell_type": "code",
   "execution_count": 38,
   "metadata": {
    "collapsed": false
   },
   "outputs": [
    {
     "data": {
      "text/plain": [
       "3.14 €"
      ]
     },
     "execution_count": 38,
     "metadata": {},
     "output_type": "execute_result"
    }
   ],
   "source": [
    "Euro(pi)"
   ]
  },
  {
   "cell_type": "markdown",
   "metadata": {},
   "source": [
    "### Your own types are as fast as built-in types\n",
    "\n",
    "There are other niceties. Your self-defined type is not inferior to any of the built-in types. For example, you can define addition, and it will be fast:"
   ]
  },
  {
   "cell_type": "code",
   "execution_count": 39,
   "metadata": {
    "collapsed": false
   },
   "outputs": [
    {
     "data": {
      "text/plain": [
       "+ (generic function with 156 methods)"
      ]
     },
     "execution_count": 39,
     "metadata": {},
     "output_type": "execute_result"
    }
   ],
   "source": [
    "import Base: +\n",
    "\n",
    "+(a::Euro, b::Euro) = Euro(value(a)+value(b))"
   ]
  },
  {
   "cell_type": "code",
   "execution_count": 40,
   "metadata": {
    "collapsed": false
   },
   "outputs": [
    {
     "data": {
      "text/plain": [
       "5.0 €"
      ]
     },
     "execution_count": 40,
     "metadata": {},
     "output_type": "execute_result"
    }
   ],
   "source": [
    "a = Euro(2)\n",
    "b = Euro(3)\n",
    "a+b"
   ]
  },
  {
   "cell_type": "markdown",
   "metadata": {},
   "source": [
    "Julia certainly wins some extra credits here: since we've defined `+` for our type, we can automatically use the `sum` function:"
   ]
  },
  {
   "cell_type": "code",
   "execution_count": 41,
   "metadata": {
    "collapsed": false
   },
   "outputs": [
    {
     "data": {
      "text/plain": [
       "5.0 €"
      ]
     },
     "execution_count": 41,
     "metadata": {},
     "output_type": "execute_result"
    }
   ],
   "source": [
    "sum([a b])"
   ]
  },
  {
   "cell_type": "markdown",
   "metadata": {},
   "source": [
    "That seems to work, so now let's measure speed."
   ]
  },
  {
   "cell_type": "code",
   "execution_count": 47,
   "metadata": {
    "collapsed": false
   },
   "outputs": [
    {
     "name": "stdout",
     "output_type": "stream",
     "text": [
      "  "
     ]
    },
    {
     "data": {
      "text/plain": [
       "4987.35 €"
      ]
     },
     "execution_count": 47,
     "metadata": {},
     "output_type": "execute_result"
    },
    {
     "name": "stdout",
     "output_type": "stream",
     "text": [
      "0.000005 seconds (5 allocations: 176 bytes)\n",
      "  0.000007 seconds (5 allocations: 176 bytes)\n"
     ]
    }
   ],
   "source": [
    "N = 10000\n",
    "float_list = rand(N)\n",
    "\n",
    "s1 = sum(float_list)   # call sum(a) for warm-up, so compilation time is not part of our timing\n",
    "@time sum(float_list)\n",
    "\n",
    "euro_list = [Euro(float_list[i]) for i=1:length(float_list)]\n",
    "s2 = sum(euro_list)\n",
    "@time sum(euro_list)"
   ]
  },
  {
   "cell_type": "markdown",
   "metadata": {},
   "source": [
    "See? I told you. Equally fast! Or, well, very very close, because I still see a difference, but it is tiny.\n",
    "\n",
    "Summing `Euro`'s also does not allocate memory, at least not $O(N)$ memory. The small memory allocation shown above (176 bytes in my case) is actually due to how IPython executes things, not to the computation. So, summing `Euro`'s is **every bit as fast as if we were just adding floating point numbers**! "
   ]
  },
  {
   "cell_type": "markdown",
   "metadata": {},
   "source": [
    "We can also do the sum ourselves with a for loop, and still achieve comparable speed and avoid extensive memory allocations. Here is one way to do so. This is perhaps not how you would write it, and we will modify it later on."
   ]
  },
  {
   "cell_type": "code",
   "execution_count": 48,
   "metadata": {
    "collapsed": false
   },
   "outputs": [
    {
     "data": {
      "text/plain": [
       "my_sum (generic function with 1 method)"
      ]
     },
     "execution_count": 48,
     "metadata": {},
     "output_type": "execute_result"
    }
   ],
   "source": [
    "function my_sum(a)\n",
    "    z = a[1]\n",
    "    for i = 2:length(a)\n",
    "        z = z + a[i]\n",
    "    end\n",
    "    z\n",
    "end"
   ]
  },
  {
   "cell_type": "code",
   "execution_count": 49,
   "metadata": {
    "collapsed": false
   },
   "outputs": [
    {
     "name": "stdout",
     "output_type": "stream",
     "text": [
      "  "
     ]
    },
    {
     "data": {
      "text/plain": [
       "4987.35 €"
      ]
     },
     "execution_count": 49,
     "metadata": {},
     "output_type": "execute_result"
    },
    {
     "name": "stdout",
     "output_type": "stream",
     "text": [
      "0.000010 seconds (5 allocations: 176 bytes)\n",
      "  0.000014 seconds (5 allocations: 176 bytes)\n"
     ]
    }
   ],
   "source": [
    "s3 = my_sum(euro_list)\n",
    "@time sum(float_list)\n",
    "@time my_sum(euro_list)"
   ]
  },
  {
   "cell_type": "markdown",
   "metadata": {},
   "source": [
    "Seems to be fine: our own sum is nearly as fast for `Euro`'s as the `sum` that comes with Julia is for floating point numbers."
   ]
  },
  {
   "cell_type": "markdown",
   "metadata": {},
   "source": [
    "### Built-in types are simply defined in Julia"
   ]
  },
  {
   "cell_type": "markdown",
   "metadata": {},
   "source": [
    "In fact, even the core numeric types of Julia are (largely) defined in Julia. You can see them in the file [base/boot.jl](https://github.com/JuliaLang/julia/blob/master/base/boot.jl#L196), which contains the first code that is being executed whenever Julia is started. The arithmetic operations on floating points numbers are captured in [base/float.jl](https://github.com/JuliaLang/julia/blob/master/base/float.jl#L199).\n",
    "\n",
    "This forces the compiler to make every type as fast as it can be, because the **built-in types are just implemented in Julia too**.\n",
    "\n",
    "You can interact with them easily, for example to define multiplication."
   ]
  },
  {
   "cell_type": "code",
   "execution_count": 50,
   "metadata": {
    "collapsed": false
   },
   "outputs": [
    {
     "data": {
      "text/plain": [
       "* (generic function with 139 methods)"
      ]
     },
     "execution_count": 50,
     "metadata": {},
     "output_type": "execute_result"
    }
   ],
   "source": [
    "import Base: *\n",
    "\n",
    "*(a::Number, b::Euro) = Euro(a*value(b))"
   ]
  },
  {
   "cell_type": "code",
   "execution_count": 51,
   "metadata": {
    "collapsed": false
   },
   "outputs": [
    {
     "data": {
      "text/plain": [
       "4.0 €"
      ]
     },
     "execution_count": 51,
     "metadata": {},
     "output_type": "execute_result"
    }
   ],
   "source": [
    "2*Euro(2)"
   ]
  },
  {
   "cell_type": "markdown",
   "metadata": {},
   "source": [
    "Alternatively, it is possible to hook up our `Euro` type into the promotion/conversion system that Julia has. Then the above definition would not have been necessary, things would just work. I won't do that here, but feel free to [explore](http://docs.julialang.org/en/release-0.4/manual/conversion-and-promotion/?highlight=conversion) and try it out yourself. You can make the `Euro` type blend in seamlessly in computations, and operations will be fast, while your variables carry meaning that differentiates them from regular floating point numbers."
   ]
  },
  {
   "cell_type": "code",
   "execution_count": null,
   "metadata": {
    "collapsed": true
   },
   "outputs": [],
   "source": []
  },
  {
   "cell_type": "markdown",
   "metadata": {},
   "source": [
    "## 3. Coming back to type stability\n",
    "\n",
    "### Variables should retain their type\n",
    "\n",
    "Not enough yet on this topic, let's return to that concept of type stability. The following code might have been your first shot at writing a sum routine, had I asked you (it was *my* first shot). It makes sense to put `z` to zero first, and then iterate over all elements of `a` to add them, rather than to iterate over all but the first element in the code above. Like this:"
   ]
  },
  {
   "cell_type": "code",
   "execution_count": 52,
   "metadata": {
    "collapsed": false
   },
   "outputs": [
    {
     "data": {
      "text/plain": [
       "my_sum_slow (generic function with 1 method)"
      ]
     },
     "execution_count": 52,
     "metadata": {},
     "output_type": "execute_result"
    }
   ],
   "source": [
    "function my_sum_slow(a)\n",
    "    z = 0\n",
    "    for i = 1:length(a)\n",
    "        z = z + a[i]\n",
    "    end\n",
    "    z\n",
    "end"
   ]
  },
  {
   "cell_type": "code",
   "execution_count": 53,
   "metadata": {
    "collapsed": false
   },
   "outputs": [
    {
     "name": "stdout",
     "output_type": "stream",
     "text": [
      "  "
     ]
    },
    {
     "data": {
      "text/plain": [
       "4987.354445007474"
      ]
     },
     "execution_count": 53,
     "metadata": {},
     "output_type": "execute_result"
    },
    {
     "name": "stdout",
     "output_type": "stream",
     "text": [
      "0.000008 seconds (5 allocations: 176 bytes)\n",
      "  0.000269 seconds (20.00 k allocations: 312.656 KB)\n"
     ]
    }
   ],
   "source": [
    "s4 = my_sum_slow(float_list)\n",
    "@time sum(float_list)\n",
    "@time my_sum_slow(float_list)"
   ]
  },
  {
   "cell_type": "markdown",
   "metadata": {},
   "source": [
    "Headaches! Headaches! It is much slower and memory usage is going through the roof! What happened here?\n",
    "\n",
    "The reason is that `0` is an integer, but `a[1]` is not. The line `z = 0` makes the compiler infer (correctly) that `z` henceforth is an integer. But then as soon as we start adding `Float64`'s, `z` changes type to be a `Float64` itself. The code works as intendend, but this is a big no-no for performance. For best performance, **variables should retain their type throughout a function body**.\n",
    "\n",
    "We can see exactly what Julia thinks it knows about the types of our variables."
   ]
  },
  {
   "cell_type": "code",
   "execution_count": 54,
   "metadata": {
    "collapsed": false
   },
   "outputs": [
    {
     "data": {
      "text/plain": [
       "1-element Array{Any,1}:\n",
       " :($(Expr(:lambda, Any[:a], Any[Any[Any[:a,Array{Float64,1},0],Any[:z,Any,2],Any[symbol(\"#s41\"),Int64,2],Any[:i,Int64,18]],Any[],Any[UnitRange{Int64},Tuple{Int64,Int64},Int64,Int64,Int64],Any[]], :(begin  # In[52], line 2:\n",
       "        z = 0 # In[52], line 3:\n",
       "        GenSym(2) = (Base.arraylen)(a::Array{Float64,1})::Int64\n",
       "        GenSym(0) = $(Expr(:new, UnitRange{Int64}, 1, :(((top(getfield))(Base.Intrinsics,:select_value)::I)((Base.sle_int)(1,GenSym(2))::Bool,GenSym(2),(Base.box)(Int64,(Base.sub_int)(1,1))::Int64)::Int64)))\n",
       "        #s41 = (top(getfield))(GenSym(0),:start)::Int64\n",
       "        unless (Base.box)(Base.Bool,(Base.not_int)(#s41::Int64 === (Base.box)(Base.Int,(Base.add_int)((top(getfield))(GenSym(0),:stop)::Int64,1))::Int64::Bool))::Bool goto 1\n",
       "        2: \n",
       "        GenSym(3) = #s41::Int64\n",
       "        GenSym(4) = (Base.box)(Base.Int,(Base.add_int)(#s41::Int64,1))::Int64\n",
       "        i = GenSym(3)\n",
       "        #s41 = GenSym(4) # In[52], line 4:\n",
       "        z = z::Union{Float64,Int64} + (Base.arrayref)(a::Array{Float64,1},i::Int64)::Float64::Float64\n",
       "        3: \n",
       "        unless (Base.box)(Base.Bool,(Base.not_int)((Base.box)(Base.Bool,(Base.not_int)(#s41::Int64 === (Base.box)(Base.Int,(Base.add_int)((top(getfield))(GenSym(0),:stop)::Int64,1))::Int64::Bool))::Bool))::Bool goto 2\n",
       "        1: \n",
       "        0:  # In[52], line 6:\n",
       "        return z::Union{Float64,Int64}\n",
       "    end::Union{Float64,Int64}))))"
      ]
     },
     "execution_count": 54,
     "metadata": {},
     "output_type": "execute_result"
    }
   ],
   "source": [
    "@code_typed my_sum_slow(float_list)"
   ]
  },
  {
   "cell_type": "markdown",
   "metadata": {},
   "source": [
    "This is a lot of gibberish, but note the final line: `end::Union{Float64,Int64}`. Julia can't make up its mind whether the final result is a Float64 or an Int64. That is not ideal, but things are even worse. Since `z` can also be both, during execution Julia allocates memory for a variable of type `Any`. That is, the variable `z` acts like a pointer to some memory location, and subsequent operations require a lot of allocations for new values of `z`.\n",
    "\n",
    "You might think that the return value will always be Float64 if `float_list` is an array of Float64's. But this is not true: the length of the array could be zero, in which case the for loop is not executed and the result of the function is truly the integer `0`. So, the compiler is right. The code works and does what it should do, but it is slower. Not devastatingly slow, it just reduces to being Python-slow. Or Matlab-slow."
   ]
  },
  {
   "cell_type": "markdown",
   "metadata": {},
   "source": [
    "Expect future Julia IDE's to give you big fat warnings about this kind of type instability. It is easy to spot. You can already tell whether the compiler has succeeded in inferring all types and whether or not your code is type stable. It is a matter of functionality to automate this in a proper IDE. It is easy to write something that is not type stable. But, **if your function is not type-stable, Julia already knows.**"
   ]
  },
  {
   "cell_type": "markdown",
   "metadata": {},
   "source": [
    "But wait, what if I use the list containing `Euro` values? See what happens."
   ]
  },
  {
   "cell_type": "code",
   "execution_count": 55,
   "metadata": {
    "collapsed": false
   },
   "outputs": [
    {
     "ename": "LoadError",
     "evalue": "LoadError: MethodError: `+` has no method matching +(::Int64, ::Euro)\nClosest candidates are:\n  +(::Any, ::Any, !Matched::Any, !Matched::Any...)\n  +(::Int64, !Matched::Int64)\n  +(::Integer, !Matched::Ptr{T})\n  ...\nwhile loading In[55], in expression starting on line 155",
     "output_type": "error",
     "traceback": [
      "LoadError: MethodError: `+` has no method matching +(::Int64, ::Euro)\nClosest candidates are:\n  +(::Any, ::Any, !Matched::Any, !Matched::Any...)\n  +(::Int64, !Matched::Int64)\n  +(::Integer, !Matched::Ptr{T})\n  ...\nwhile loading In[55], in expression starting on line 155",
      "",
      " in my_sum_slow at In[52]:4"
     ]
    }
   ],
   "source": [
    "@time my_sum_slow(euro_list)"
   ]
  },
  {
   "cell_type": "markdown",
   "metadata": {},
   "source": [
    "We get an error. It is an error, because adding 0 (of type `Int64`) to a `Euro` is not possible. We did not define it. Or, as Julia says, \"There is no method matching `+(::Int64, ::Euro)`\".\n",
    "\n",
    "In general, Julia does not favour automatic conversions. There is an elaborate [conversion system](http://docs.julialang.org/en/release-0.4/manual/conversion-and-promotion/?highlight=conversion), but this is opt-in. Automatic conversions often hide what is really going on, and that is not very Julian. We want to know *exactly* what our code does, and it should be either crystal clear or simple to find out."
   ]
  },
  {
   "cell_type": "markdown",
   "metadata": {},
   "source": [
    "### Problems with `my_sum`: what should be the type of the output?"
   ]
  },
  {
   "cell_type": "markdown",
   "metadata": {},
   "source": [
    "One way to fix the type instability in `my_sum_slow` is to declare the type of `z`, like this:"
   ]
  },
  {
   "cell_type": "code",
   "execution_count": 56,
   "metadata": {
    "collapsed": false
   },
   "outputs": [
    {
     "data": {
      "text/plain": [
       "my_sum_not_slow_anymore (generic function with 1 method)"
      ]
     },
     "execution_count": 56,
     "metadata": {},
     "output_type": "execute_result"
    }
   ],
   "source": [
    "function my_sum_not_slow_anymore(a)\n",
    "    z::Float64 = 0\n",
    "    for i = 1:length(a)\n",
    "        z = z + a[i]\n",
    "    end\n",
    "    z\n",
    "end"
   ]
  },
  {
   "cell_type": "markdown",
   "metadata": {},
   "source": [
    "But this is ugly! After doing away with type declarations of variables, are we going to introduce them again through the backdoor for performance?\n",
    "\n",
    "This implementation is also very restrictive. Why should the type of `z` be a `Float64` anyway? The former version did not assume anything of `a`, only that it (a) supports indexing and (b) supports addition of its elements. The argument `a` could contain integers, or `BigFloat`s, or `Euro`'s..."
   ]
  },
  {
   "cell_type": "markdown",
   "metadata": {},
   "source": [
    "It is tempting to check the type of the first element of `a`, using `typeof(a[1])`. But then we're assuming that the array is non-empty. Empty arrays are a corner case for summation and corner cases matter in technical computing.\n",
    "\n",
    "It is perfectly possible to create empty arrays of a certain type in Julia, so that it is always clear what the type of an empty array is. We create an empty array of `BigFloat`'s like this:"
   ]
  },
  {
   "cell_type": "code",
   "execution_count": 57,
   "metadata": {
    "collapsed": false
   },
   "outputs": [
    {
     "data": {
      "text/plain": [
       "0-element Array{BigFloat,1}"
      ]
     },
     "execution_count": 57,
     "metadata": {},
     "output_type": "execute_result"
    }
   ],
   "source": [
    "empty_array = Array(BigFloat,0)"
   ]
  },
  {
   "cell_type": "markdown",
   "metadata": {},
   "source": [
    "Julia's sum does the right thing, it returns a `BigFloat` zero:"
   ]
  },
  {
   "cell_type": "code",
   "execution_count": 58,
   "metadata": {
    "collapsed": false
   },
   "outputs": [
    {
     "data": {
      "text/plain": [
       "0.000000000000000000000000000000000000000000000000000000000000000000000000000000"
      ]
     },
     "execution_count": 58,
     "metadata": {},
     "output_type": "execute_result"
    }
   ],
   "source": [
    "sum(empty_array)"
   ]
  },
  {
   "cell_type": "code",
   "execution_count": 59,
   "metadata": {
    "collapsed": false
   },
   "outputs": [
    {
     "data": {
      "text/plain": [
       "BigFloat"
      ]
     },
     "execution_count": 59,
     "metadata": {},
     "output_type": "execute_result"
    }
   ],
   "source": [
    "typeof(ans)"
   ]
  },
  {
   "cell_type": "markdown",
   "metadata": {},
   "source": [
    "But all of our own implementations of sum fail, either with an error or by responding with the wrong type:"
   ]
  },
  {
   "cell_type": "code",
   "execution_count": 60,
   "metadata": {
    "collapsed": false
   },
   "outputs": [
    {
     "ename": "LoadError",
     "evalue": "LoadError: BoundsError: attempt to access 0-element Array{BigFloat,1}\n  at index [1]\nwhile loading In[60], in expression starting on line 1",
     "output_type": "error",
     "traceback": [
      "LoadError: BoundsError: attempt to access 0-element Array{BigFloat,1}\n  at index [1]\nwhile loading In[60], in expression starting on line 1",
      "",
      " in my_sum at In[48]:2"
     ]
    }
   ],
   "source": [
    "my_sum(empty_array)"
   ]
  },
  {
   "cell_type": "code",
   "execution_count": 61,
   "metadata": {
    "collapsed": false
   },
   "outputs": [
    {
     "data": {
      "text/plain": [
       "0"
      ]
     },
     "execution_count": 61,
     "metadata": {},
     "output_type": "execute_result"
    }
   ],
   "source": [
    "my_sum_slow(empty_array)"
   ]
  },
  {
   "cell_type": "code",
   "execution_count": 62,
   "metadata": {
    "collapsed": false
   },
   "outputs": [
    {
     "data": {
      "text/plain": [
       "Int64"
      ]
     },
     "execution_count": 62,
     "metadata": {},
     "output_type": "execute_result"
    }
   ],
   "source": [
    "typeof(ans)"
   ]
  },
  {
   "cell_type": "code",
   "execution_count": 63,
   "metadata": {
    "collapsed": false
   },
   "outputs": [
    {
     "data": {
      "text/plain": [
       "0.0"
      ]
     },
     "execution_count": 63,
     "metadata": {},
     "output_type": "execute_result"
    }
   ],
   "source": [
    "my_sum_not_slow_anymore(empty_array)"
   ]
  },
  {
   "cell_type": "code",
   "execution_count": 64,
   "metadata": {
    "collapsed": false
   },
   "outputs": [
    {
     "data": {
      "text/plain": [
       "Float64"
      ]
     },
     "execution_count": 64,
     "metadata": {},
     "output_type": "execute_result"
    }
   ],
   "source": [
    "typeof(ans)"
   ]
  },
  {
   "cell_type": "markdown",
   "metadata": {},
   "source": [
    "In your Julia code, how do you find out about the type of an empty array? Or how do you find out the type of your parameters in general? There is a very elegant solution in Julia: parametric types and methods."
   ]
  },
  {
   "cell_type": "code",
   "execution_count": null,
   "metadata": {
    "collapsed": true
   },
   "outputs": [],
   "source": []
  },
  {
   "cell_type": "markdown",
   "metadata": {},
   "source": [
    "## 4. Parametric methods and parametric types"
   ]
  },
  {
   "cell_type": "markdown",
   "metadata": {},
   "source": [
    "### Parametric types"
   ]
  },
  {
   "cell_type": "markdown",
   "metadata": {},
   "source": [
    "We have already seen parametric types several times without naming them. Here is one of them:"
   ]
  },
  {
   "cell_type": "code",
   "execution_count": 65,
   "metadata": {
    "collapsed": false
   },
   "outputs": [
    {
     "data": {
      "text/plain": [
       "4-element Array{Float64,1}:\n",
       " 6.89948e-310\n",
       " 6.89948e-310\n",
       " 6.89948e-310\n",
       " 0.0         "
      ]
     },
     "execution_count": 65,
     "metadata": {},
     "output_type": "execute_result"
    }
   ],
   "source": [
    "a = Array(Float64, 4)"
   ]
  },
  {
   "cell_type": "code",
   "execution_count": 66,
   "metadata": {
    "collapsed": false
   },
   "outputs": [
    {
     "data": {
      "text/plain": [
       "Array{Float64,1}"
      ]
     },
     "execution_count": 66,
     "metadata": {},
     "output_type": "execute_result"
    }
   ],
   "source": [
    "typeof(a)"
   ]
  },
  {
   "cell_type": "markdown",
   "metadata": {},
   "source": [
    "The type of `a` is Array, and it has two parameters: the type of the elements (Float64) and the dimension of the array (in this case 1).\n",
    "\n",
    "You can create your own parametric types by adding type parameters to the definition:"
   ]
  },
  {
   "cell_type": "code",
   "execution_count": 67,
   "metadata": {
    "collapsed": false
   },
   "outputs": [],
   "source": [
    "immutable Point{T}\n",
    "    x :: T\n",
    "    y :: T\n",
    "    z :: T\n",
    "end"
   ]
  },
  {
   "cell_type": "code",
   "execution_count": 68,
   "metadata": {
    "collapsed": false
   },
   "outputs": [
    {
     "data": {
      "text/plain": [
       "Point{Float64}(0.1,0.2,0.4)"
      ]
     },
     "execution_count": 68,
     "metadata": {},
     "output_type": "execute_result"
    }
   ],
   "source": [
    "p = Point(0.1, 0.2, 0.4)"
   ]
  },
  {
   "cell_type": "markdown",
   "metadata": {},
   "source": [
    "Note that the description of the type of `p` includes the type parameter `Float64`:"
   ]
  },
  {
   "cell_type": "code",
   "execution_count": 69,
   "metadata": {
    "collapsed": false
   },
   "outputs": [
    {
     "data": {
      "text/plain": [
       "Point{Float64}"
      ]
     },
     "execution_count": 69,
     "metadata": {},
     "output_type": "execute_result"
    }
   ],
   "source": [
    "typeof(p)"
   ]
  },
  {
   "cell_type": "code",
   "execution_count": 70,
   "metadata": {
    "collapsed": false
   },
   "outputs": [
    {
     "data": {
      "text/plain": [
       "0.1"
      ]
     },
     "execution_count": 70,
     "metadata": {},
     "output_type": "execute_result"
    }
   ],
   "source": [
    "p.x"
   ]
  },
  {
   "cell_type": "markdown",
   "metadata": {},
   "source": [
    "Why would I define a point this way? I want to specify the types of x, y and z, so that Julia knows them and produces optimized code. But I don't want to specify that they are `Float64`. What if my user wants to use `BigFloat`'s? Or integers? Or something else entirely I do not know about, some user-defined numeric type? In this case, parameters are the answer."
   ]
  },
  {
   "cell_type": "markdown",
   "metadata": {
    "collapsed": true
   },
   "source": [
    "Type parameters in Julia look a lot like C++ template parameters. A major difference is that C++ templates are mostly syntactic sugar at compile-time. You could achieve what they do, if you have the patience, by using copy-paste of text over and over again. In Julia, parametric types and methods are a major part of the language in all stages of execution."
   ]
  },
  {
   "cell_type": "markdown",
   "metadata": {},
   "source": [
    "I am skipping over many things here, like default and user-supplied constructors. There are inner and outer constructors. They can be painful at times. Please read the manual on [constructors](http://docs.julialang.org/en/release-0.4/manual/constructors/), especially [parametric constructors](http://docs.julialang.org/en/release-0.4/manual/constructors/#parametric-constructors), and don't complain to me."
   ]
  },
  {
   "cell_type": "markdown",
   "metadata": {},
   "source": [
    "### Parametric methods\n",
    "\n",
    "We have seen that you can specify the type of an argument in a function definition. Here is one way to fix our implementation of sum:"
   ]
  },
  {
   "cell_type": "code",
   "execution_count": 76,
   "metadata": {
    "collapsed": false
   },
   "outputs": [
    {
     "data": {
      "text/plain": [
       "my_sum2 (generic function with 1 method)"
      ]
     },
     "execution_count": 76,
     "metadata": {},
     "output_type": "execute_result"
    }
   ],
   "source": [
    "function my_sum2{T}(a::Array{T})\n",
    "    z = zero(T)\n",
    "    for i = 1:length(a)\n",
    "        z += a[i]\n",
    "    end\n",
    "    z\n",
    "end"
   ]
  },
  {
   "cell_type": "markdown",
   "metadata": {},
   "source": [
    "This is called a *parametric method*. The function `my_sum2` applies to all arrays that contain elements of type T. The dimension of the array can be anything, since I did not specify the second parameter of `Array`.\n",
    "\n",
    "The parameter `T` is available in the function body. In particular, the line `z = zero(T)` creates a value that is numerically 0 but has type `T`. It is a convention to define this function for all types that can have numerical values."
   ]
  },
  {
   "cell_type": "code",
   "execution_count": 77,
   "metadata": {
    "collapsed": false
   },
   "outputs": [
    {
     "data": {
      "text/plain": [
       "5"
      ]
     },
     "execution_count": 77,
     "metadata": {},
     "output_type": "execute_result"
    }
   ],
   "source": [
    "my_sum2([2 3])"
   ]
  },
  {
   "cell_type": "code",
   "execution_count": 78,
   "metadata": {
    "collapsed": false
   },
   "outputs": [
    {
     "data": {
      "text/plain": [
       "5.0"
      ]
     },
     "execution_count": 78,
     "metadata": {},
     "output_type": "execute_result"
    }
   ],
   "source": [
    "my_sum2([2.0 3.0])"
   ]
  },
  {
   "cell_type": "code",
   "execution_count": 79,
   "metadata": {
    "collapsed": false
   },
   "outputs": [
    {
     "data": {
      "text/plain": [
       "0.000000000000000000000000000000000000000000000000000000000000000000000000000000"
      ]
     },
     "execution_count": 79,
     "metadata": {},
     "output_type": "execute_result"
    }
   ],
   "source": [
    "my_sum2(Array(BigFloat, 0))"
   ]
  },
  {
   "cell_type": "markdown",
   "metadata": {},
   "source": [
    "Let's make our `Euro` type a good citizen in the Julia ecosystem and define `zero` for it. Since `zero` is defined in the module `Base`, we have to scope it correctly (remember to read more about [Modules](http://docs.julialang.org/en/release-0.4/manual/modules/)).\n",
    "\n",
    "Note that `zero(T)` is a strange beast: the argument `T` is a type! Turns out that **you can pass around types as arguments**. Like functions and operators. Sure you can. In a modern language, how could it be any other way?\n",
    "\n",
    "Here is how to accept a Type as an argument:"
   ]
  },
  {
   "cell_type": "code",
   "execution_count": 82,
   "metadata": {
    "collapsed": false
   },
   "outputs": [
    {
     "data": {
      "text/plain": [
       "zero (generic function with 14 methods)"
      ]
     },
     "execution_count": 82,
     "metadata": {},
     "output_type": "execute_result"
    }
   ],
   "source": [
    "import Base: zero\n",
    "\n",
    "zero(::Type{Euro}) = Euro(0.0)"
   ]
  },
  {
   "cell_type": "code",
   "execution_count": 83,
   "metadata": {
    "collapsed": false
   },
   "outputs": [
    {
     "data": {
      "text/plain": [
       "0.0 €"
      ]
     },
     "execution_count": 83,
     "metadata": {},
     "output_type": "execute_result"
    }
   ],
   "source": [
    "my_sum2(Array(Euro, 0))"
   ]
  },
  {
   "cell_type": "code",
   "execution_count": 84,
   "metadata": {
    "collapsed": false
   },
   "outputs": [
    {
     "data": {
      "text/plain": [
       "5.0 €"
      ]
     },
     "execution_count": 84,
     "metadata": {},
     "output_type": "execute_result"
    }
   ],
   "source": [
    "my_sum2([Euro(2) Euro(3)])"
   ]
  },
  {
   "cell_type": "markdown",
   "metadata": {},
   "source": [
    "Types also have a type:"
   ]
  },
  {
   "cell_type": "code",
   "execution_count": 85,
   "metadata": {
    "collapsed": false
   },
   "outputs": [
    {
     "data": {
      "text/plain": [
       "DataType"
      ]
     },
     "execution_count": 85,
     "metadata": {},
     "output_type": "execute_result"
    }
   ],
   "source": [
    "typeof(Float64)"
   ]
  },
  {
   "cell_type": "code",
   "execution_count": 86,
   "metadata": {
    "collapsed": false
   },
   "outputs": [
    {
     "data": {
      "text/plain": [
       "DataType"
      ]
     },
     "execution_count": 86,
     "metadata": {},
     "output_type": "execute_result"
    }
   ],
   "source": [
    "typeof(Euro)"
   ]
  },
  {
   "cell_type": "markdown",
   "metadata": {},
   "source": [
    "And DataType is its own type. Julia's type system is very consistent. People did think it through."
   ]
  },
  {
   "cell_type": "code",
   "execution_count": 87,
   "metadata": {
    "collapsed": false
   },
   "outputs": [
    {
     "data": {
      "text/plain": [
       "DataType"
      ]
     },
     "execution_count": 87,
     "metadata": {},
     "output_type": "execute_result"
    }
   ],
   "source": [
    "typeof(DataType)"
   ]
  },
  {
   "cell_type": "code",
   "execution_count": null,
   "metadata": {
    "collapsed": true
   },
   "outputs": [],
   "source": []
  },
  {
   "cell_type": "markdown",
   "metadata": {},
   "source": [
    "## 5. Inheritance: abstract and concrete types\n",
    "\n",
    "Sure enough, types can inherit from other types. You can create an abstract type and then inherit from it."
   ]
  },
  {
   "cell_type": "markdown",
   "metadata": {},
   "source": [
    "### Inheriting from abstract types"
   ]
  },
  {
   "cell_type": "code",
   "execution_count": 88,
   "metadata": {
    "collapsed": true
   },
   "outputs": [],
   "source": [
    "abstract AbstractPoint"
   ]
  },
  {
   "cell_type": "markdown",
   "metadata": {},
   "source": [
    "Note that abstract types are always empty, they can not have fields. Also, you can never instantiate them. Each variable has a *concrete* type at any time.\n",
    "\n",
    "Inheritance is specified using the `<:` symbol:"
   ]
  },
  {
   "cell_type": "code",
   "execution_count": 89,
   "metadata": {
    "collapsed": false
   },
   "outputs": [],
   "source": [
    "immutable Point2d <: AbstractPoint\n",
    "    x :: Float64\n",
    "    y :: Float64\n",
    "end"
   ]
  },
  {
   "cell_type": "code",
   "execution_count": 90,
   "metadata": {
    "collapsed": false
   },
   "outputs": [],
   "source": [
    "immutable Point3d <: AbstractPoint\n",
    "    x :: Float64\n",
    "    y :: Float64\n",
    "    z :: Float64\n",
    "end"
   ]
  },
  {
   "cell_type": "code",
   "execution_count": 91,
   "metadata": {
    "collapsed": false
   },
   "outputs": [
    {
     "data": {
      "text/plain": [
       "Point2d(0.1,2.0)"
      ]
     },
     "execution_count": 91,
     "metadata": {},
     "output_type": "execute_result"
    }
   ],
   "source": [
    "p2 = Point2d(0.1, 2.0)"
   ]
  },
  {
   "cell_type": "code",
   "execution_count": 92,
   "metadata": {
    "collapsed": false
   },
   "outputs": [
    {
     "data": {
      "text/plain": [
       "Point2d"
      ]
     },
     "execution_count": 92,
     "metadata": {},
     "output_type": "execute_result"
    }
   ],
   "source": [
    "typeof(p2)"
   ]
  },
  {
   "cell_type": "code",
   "execution_count": 93,
   "metadata": {
    "collapsed": false
   },
   "outputs": [
    {
     "data": {
      "text/plain": [
       "AbstractPoint"
      ]
     },
     "execution_count": 93,
     "metadata": {},
     "output_type": "execute_result"
    }
   ],
   "source": [
    "super(Point2d)"
   ]
  },
  {
   "cell_type": "code",
   "execution_count": 94,
   "metadata": {
    "collapsed": false
   },
   "outputs": [
    {
     "data": {
      "text/plain": [
       "Point3d(5.0,7.2,4.0)"
      ]
     },
     "execution_count": 94,
     "metadata": {},
     "output_type": "execute_result"
    }
   ],
   "source": [
    "p3 = Point3d(5.0, 7.2, 4)"
   ]
  },
  {
   "cell_type": "code",
   "execution_count": 95,
   "metadata": {
    "collapsed": false
   },
   "outputs": [
    {
     "data": {
      "text/plain": [
       "AbstractPoint"
      ]
     },
     "execution_count": 95,
     "metadata": {},
     "output_type": "execute_result"
    }
   ],
   "source": [
    "super(Point3d)"
   ]
  },
  {
   "cell_type": "code",
   "execution_count": null,
   "metadata": {
    "collapsed": true
   },
   "outputs": [],
   "source": []
  },
  {
   "cell_type": "markdown",
   "metadata": {},
   "source": [
    "Any type that is not abstract is a *concrete type*. **You can not inherit from concrete types**. For example, we could not create a subset of `Point2d`'s, say a subset that has unit norm, as follows:"
   ]
  },
  {
   "cell_type": "code",
   "execution_count": 96,
   "metadata": {
    "collapsed": false
   },
   "outputs": [
    {
     "ename": "LoadError",
     "evalue": "LoadError: invalid subtyping in definition of Point2d_with_unit_norm\nwhile loading In[96], in expression starting on line 1",
     "output_type": "error",
     "traceback": [
      "LoadError: invalid subtyping in definition of Point2d_with_unit_norm\nwhile loading In[96], in expression starting on line 1",
      ""
     ]
    }
   ],
   "source": [
    "type Point2d_with_unit_norm <: Point2d\n",
    "end"
   ]
  },
  {
   "cell_type": "markdown",
   "metadata": {},
   "source": [
    "Lots of issues arise when inheriting from concrete types. They make the code more complicated, and the compiler more complicated. Since you can achieve similar effects of what we were trying to do above in other ways in Julia, it is not as big a problem as it might seem at first.\n",
    "\n",
    "A more important argument is the following, and it is about performance. Say you create an array of `Float64`s. It will be very memory-efficient, as we've already seen: the array just allocates enough memory to store its elements. You don't want a user making a type that inherits from `Float64` and then try to put that type in your array. It would not be possible without making all elements of the array pointers to elsewhere by default, in order to resolve the ambiguity or the possible mismatch in size. This adds indirection, which makes it slow."
   ]
  },
  {
   "cell_type": "code",
   "execution_count": null,
   "metadata": {
    "collapsed": true
   },
   "outputs": [],
   "source": []
  },
  {
   "cell_type": "markdown",
   "metadata": {},
   "source": [
    "### When to use (or not to use) inheritance\n",
    "\n",
    "Another good old computer science technique is **code reuse**. In other words, don't duplicate code.\n",
    "\n",
    "This implies defining a function on the most general level where it can be defined. For example, since both `Point2d` and `Point3d` have a field called `x`, we might want to have a shared implementation of a function that returns the value of `x`:"
   ]
  },
  {
   "cell_type": "code",
   "execution_count": 97,
   "metadata": {
    "collapsed": false
   },
   "outputs": [
    {
     "data": {
      "text/plain": [
       "first_dimension (generic function with 1 method)"
      ]
     },
     "execution_count": 97,
     "metadata": {},
     "output_type": "execute_result"
    }
   ],
   "source": [
    "first_dimension(p::AbstractPoint) = p.x"
   ]
  },
  {
   "cell_type": "code",
   "execution_count": 100,
   "metadata": {
    "collapsed": false
   },
   "outputs": [
    {
     "data": {
      "text/plain": [
       "0.1"
      ]
     },
     "execution_count": 100,
     "metadata": {},
     "output_type": "execute_result"
    }
   ],
   "source": [
    "p2 = Point2d(0.1, 2.0)\n",
    "first_dimension(p2)"
   ]
  },
  {
   "cell_type": "code",
   "execution_count": 101,
   "metadata": {
    "collapsed": false
   },
   "outputs": [
    {
     "data": {
      "text/plain": [
       "5.0"
      ]
     },
     "execution_count": 101,
     "metadata": {},
     "output_type": "execute_result"
    }
   ],
   "source": [
    "p3 = Point3d(5.0, 7.2, 4)\n",
    "first_dimension(p3)"
   ]
  },
  {
   "cell_type": "markdown",
   "metadata": {},
   "source": [
    "A lot of things are happening here:\n",
    "* There is not just one version of the `first_dimension` function. Recall that Julia compiles a version of your function that is specific to the types of the arguments that you give it. So, different code results for `p2` and `p3`. The source code, however, is the same for both cases and that is why we have expressed it at the level of `AbstractPoint`.\n",
    "* We wrote `p.x`, even though `AbstractPoint` has no field `x`. The code does not seem to make sense. But who cares? You can not supply an argument with an abstract type to the function anyway. As long as the concrete type you use has a field called `x`, Julia will accept it.\n",
    "* How does Julia know which version of the function to call in our examples with `p2` and `p3`? It looks at the type of the argument. This is *type-based dispatch*. In a larger program, if the compiler was able to infer the type of the argument variable without any ambiguity, then there is no need to check at runtime and your code immediately jumps to the right set of instructions. If not, Julia performs a type-check at runtime, and *then* calls the right function. This means the same code is executed, whether the compiler knew about the type of your variable ahead of time or not: this is the meaning of *dynamic* in **dynamic dispatch**."
   ]
  },
  {
   "cell_type": "markdown",
   "metadata": {},
   "source": [
    "Now, back to inheritance. Is code reuse a good enough reason to use it?\n",
    "\n",
    "Consider the following:"
   ]
  },
  {
   "cell_type": "code",
   "execution_count": 103,
   "metadata": {
    "collapsed": false
   },
   "outputs": [
    {
     "data": {
      "text/plain": [
       "second_dimension (generic function with 1 method)"
      ]
     },
     "execution_count": 103,
     "metadata": {},
     "output_type": "execute_result"
    }
   ],
   "source": [
    "second_dimension(p) = p.y"
   ]
  },
  {
   "cell_type": "code",
   "execution_count": 104,
   "metadata": {
    "collapsed": false
   },
   "outputs": [
    {
     "data": {
      "text/plain": [
       "2.0"
      ]
     },
     "execution_count": 104,
     "metadata": {},
     "output_type": "execute_result"
    }
   ],
   "source": [
    "second_dimension(p2)"
   ]
  },
  {
   "cell_type": "code",
   "execution_count": 105,
   "metadata": {
    "collapsed": false
   },
   "outputs": [
    {
     "data": {
      "text/plain": [
       "7.2"
      ]
     },
     "execution_count": 105,
     "metadata": {},
     "output_type": "execute_result"
    }
   ],
   "source": [
    "second_dimension(p3)"
   ]
  },
  {
   "cell_type": "markdown",
   "metadata": {},
   "source": [
    "Hmmm. This does exactly the same as the `first_dimension` function, but I did not specify the `AbstractPoint` type! In fact, I specified no type at all. This is commonly called **duck-typing**.\n",
    "\n",
    "In Python and Matlab, duck typing is the only possibility. In Julia, you can add types, but you don't have to. However, duck typing is strongly encouraged: it emposes the fewest restrictions on later use of your code. Julia will happily apply `second_dimension` to any object of some type that has `y` as a field name, including `Point2d` and `Point3d`, but perhaps also others. Even though Julia uses types extensively, it does not try to force them upon you needlessly. As long as things work then, well, they work. Everybody happy."
   ]
  },
  {
   "cell_type": "markdown",
   "metadata": {
    "collapsed": true
   },
   "source": [
    "But there are cases when you can not rely on duck typing. My function name `second_dimension` is rather generic. Imagine if I write the following code later on:"
   ]
  },
  {
   "cell_type": "code",
   "execution_count": 106,
   "metadata": {
    "collapsed": false
   },
   "outputs": [
    {
     "data": {
      "text/plain": [
       "second_dimension (generic function with 2 methods)"
      ]
     },
     "execution_count": 106,
     "metadata": {},
     "output_type": "execute_result"
    }
   ],
   "source": [
    "type EinsteinianSpacetime\n",
    "    space1\n",
    "    space2\n",
    "    space3\n",
    "    time\n",
    "end\n",
    "\n",
    "second_dimension(e::EinsteinianSpacetime) = e.space2"
   ]
  },
  {
   "cell_type": "markdown",
   "metadata": {},
   "source": [
    "I could not use duck typing a second time, because I want `e.space2` to be returned when `e` is an `EinsteinianSpaceTime`, and not `e.y`. Duck typing has its limits. Essentially, you can only use it once. Having a function with two different meanings, depending on the types of the variables, is a good reason to type your arguments. In fact, this is an important lesson, so let's use bold to make sure you read this. **Using dispatch is the only reason for adding types to your arguments.** It. Is. The. Only. Reason. Not performance. Not documentation. Dispatch."
   ]
  },
  {
   "cell_type": "markdown",
   "metadata": {},
   "source": [
    "Did we need inheritance to achieve code reuse? Strictly speaking, no, we did not."
   ]
  },
  {
   "cell_type": "code",
   "execution_count": null,
   "metadata": {
    "collapsed": true
   },
   "outputs": [],
   "source": []
  },
  {
   "cell_type": "markdown",
   "metadata": {
    "collapsed": true
   },
   "source": [
    "### Things Julia doesn't let you do"
   ]
  },
  {
   "cell_type": "markdown",
   "metadata": {
    "collapsed": true
   },
   "source": [
    "It is clear that the kind of inheritance that Julia supports is much more limited than in most OOP languages.\n",
    "1. Abstract types can not have fields.\n",
    "2. You can not inherit from concrete types.\n",
    "3. There is (currently) no support for multiple inheritance (and there might never be).\n",
    "4. There is (currently) no support for interfaces."
   ]
  },
  {
   "cell_type": "markdown",
   "metadata": {},
   "source": [
    "It turns out that the world of Julia does not come to a complete stop because of this and, in fact, life is not unpleasant without these features. There are alternatives. A topic too advanced for this tutorial are so-called **traits**. I am not supplying a link this time, because you have to read on first."
   ]
  },
  {
   "cell_type": "code",
   "execution_count": null,
   "metadata": {
    "collapsed": true
   },
   "outputs": [],
   "source": []
  },
  {
   "cell_type": "markdown",
   "metadata": {
    "collapsed": true
   },
   "source": [
    "## 6. Numeric types in Julia\n",
    "\n",
    "Since you are into technical computing, you probably want to know about the numeric types that Julia supports natively. See the manual on [Integers and floating point numbers](http://docs.julialang.org/en/release-0.4/manual/integers-and-floating-point-numbers/) and [Complex and rational numbers](http://docs.julialang.org/en/latest/manual/complex-and-rational-numbers/). See also the exact definitions in [base/boot.jl](https://github.com/JuliaLang/julia/blob/master/base/boot.jl#L182)."
   ]
  },
  {
   "cell_type": "markdown",
   "metadata": {},
   "source": [
    "### Sizes"
   ]
  },
  {
   "cell_type": "code",
   "execution_count": 109,
   "metadata": {
    "collapsed": false
   },
   "outputs": [
    {
     "data": {
      "text/plain": [
       "8"
      ]
     },
     "execution_count": 109,
     "metadata": {},
     "output_type": "execute_result"
    }
   ],
   "source": [
    "sizeof(Float64)"
   ]
  },
  {
   "cell_type": "code",
   "execution_count": 110,
   "metadata": {
    "collapsed": false
   },
   "outputs": [
    {
     "data": {
      "text/plain": [
       "4"
      ]
     },
     "execution_count": 110,
     "metadata": {},
     "output_type": "execute_result"
    }
   ],
   "source": [
    "sizeof(Float32)"
   ]
  },
  {
   "cell_type": "code",
   "execution_count": 111,
   "metadata": {
    "collapsed": false
   },
   "outputs": [
    {
     "data": {
      "text/plain": [
       "2"
      ]
     },
     "execution_count": 111,
     "metadata": {},
     "output_type": "execute_result"
    }
   ],
   "source": [
    "sizeof(Float16)"
   ]
  },
  {
   "cell_type": "code",
   "execution_count": 112,
   "metadata": {
    "collapsed": false
   },
   "outputs": [
    {
     "data": {
      "text/plain": [
       "8"
      ]
     },
     "execution_count": 112,
     "metadata": {},
     "output_type": "execute_result"
    }
   ],
   "source": [
    "sizeof(Int64)"
   ]
  },
  {
   "cell_type": "code",
   "execution_count": 113,
   "metadata": {
    "collapsed": false
   },
   "outputs": [
    {
     "data": {
      "text/plain": [
       "4"
      ]
     },
     "execution_count": 113,
     "metadata": {},
     "output_type": "execute_result"
    }
   ],
   "source": [
    "sizeof(Int32)"
   ]
  },
  {
   "cell_type": "code",
   "execution_count": 114,
   "metadata": {
    "collapsed": false
   },
   "outputs": [
    {
     "data": {
      "text/plain": [
       "2"
      ]
     },
     "execution_count": 114,
     "metadata": {},
     "output_type": "execute_result"
    }
   ],
   "source": [
    "sizeof(Int16)"
   ]
  },
  {
   "cell_type": "code",
   "execution_count": 115,
   "metadata": {
    "collapsed": false
   },
   "outputs": [
    {
     "data": {
      "text/plain": [
       "8"
      ]
     },
     "execution_count": 115,
     "metadata": {},
     "output_type": "execute_result"
    }
   ],
   "source": [
    "sizeof(UInt64)"
   ]
  },
  {
   "cell_type": "code",
   "execution_count": null,
   "metadata": {
    "collapsed": false
   },
   "outputs": [],
   "source": []
  },
  {
   "cell_type": "markdown",
   "metadata": {},
   "source": [
    "### Type hierarchy"
   ]
  },
  {
   "cell_type": "code",
   "execution_count": 116,
   "metadata": {
    "collapsed": false
   },
   "outputs": [
    {
     "data": {
      "text/plain": [
       "AbstractFloat"
      ]
     },
     "execution_count": 116,
     "metadata": {},
     "output_type": "execute_result"
    }
   ],
   "source": [
    "super(Float64)"
   ]
  },
  {
   "cell_type": "code",
   "execution_count": 117,
   "metadata": {
    "collapsed": false
   },
   "outputs": [
    {
     "data": {
      "text/plain": [
       "Real"
      ]
     },
     "execution_count": 117,
     "metadata": {},
     "output_type": "execute_result"
    }
   ],
   "source": [
    "super(AbstractFloat)"
   ]
  },
  {
   "cell_type": "code",
   "execution_count": 118,
   "metadata": {
    "collapsed": false
   },
   "outputs": [
    {
     "data": {
      "text/plain": [
       "Number"
      ]
     },
     "execution_count": 118,
     "metadata": {},
     "output_type": "execute_result"
    }
   ],
   "source": [
    "super(Real)"
   ]
  },
  {
   "cell_type": "code",
   "execution_count": 119,
   "metadata": {
    "collapsed": false
   },
   "outputs": [
    {
     "data": {
      "text/plain": [
       "Any"
      ]
     },
     "execution_count": 119,
     "metadata": {},
     "output_type": "execute_result"
    }
   ],
   "source": [
    "super(Number)"
   ]
  },
  {
   "cell_type": "code",
   "execution_count": null,
   "metadata": {
    "collapsed": true
   },
   "outputs": [],
   "source": []
  },
  {
   "cell_type": "code",
   "execution_count": 120,
   "metadata": {
    "collapsed": false
   },
   "outputs": [
    {
     "data": {
      "text/plain": [
       "Signed"
      ]
     },
     "execution_count": 120,
     "metadata": {},
     "output_type": "execute_result"
    }
   ],
   "source": [
    "super(Int64)"
   ]
  },
  {
   "cell_type": "code",
   "execution_count": 121,
   "metadata": {
    "collapsed": false
   },
   "outputs": [
    {
     "data": {
      "text/plain": [
       "Integer"
      ]
     },
     "execution_count": 121,
     "metadata": {},
     "output_type": "execute_result"
    }
   ],
   "source": [
    "super(Signed)"
   ]
  },
  {
   "cell_type": "code",
   "execution_count": 122,
   "metadata": {
    "collapsed": false
   },
   "outputs": [
    {
     "data": {
      "text/plain": [
       "Real"
      ]
     },
     "execution_count": 122,
     "metadata": {},
     "output_type": "execute_result"
    }
   ],
   "source": [
    "super(Integer)"
   ]
  },
  {
   "cell_type": "code",
   "execution_count": 123,
   "metadata": {
    "collapsed": false
   },
   "outputs": [
    {
     "data": {
      "text/plain": [
       "Number"
      ]
     },
     "execution_count": 123,
     "metadata": {},
     "output_type": "execute_result"
    }
   ],
   "source": [
    "super(Real)"
   ]
  },
  {
   "cell_type": "code",
   "execution_count": null,
   "metadata": {
    "collapsed": true
   },
   "outputs": [],
   "source": []
  },
  {
   "cell_type": "code",
   "execution_count": 124,
   "metadata": {
    "collapsed": false
   },
   "outputs": [
    {
     "data": {
      "text/plain": [
       "Unsigned"
      ]
     },
     "execution_count": 124,
     "metadata": {},
     "output_type": "execute_result"
    }
   ],
   "source": [
    "super(UInt64)"
   ]
  },
  {
   "cell_type": "code",
   "execution_count": 125,
   "metadata": {
    "collapsed": false
   },
   "outputs": [
    {
     "data": {
      "text/plain": [
       "Integer"
      ]
     },
     "execution_count": 125,
     "metadata": {},
     "output_type": "execute_result"
    }
   ],
   "source": [
    "super(Unsigned)"
   ]
  },
  {
   "cell_type": "code",
   "execution_count": null,
   "metadata": {
    "collapsed": true
   },
   "outputs": [],
   "source": []
  },
  {
   "cell_type": "markdown",
   "metadata": {},
   "source": [
    "### There is no runtime cost to arguments with abstract types\n",
    "\n",
    "You can make a function that applies only to numbers as follows:"
   ]
  },
  {
   "cell_type": "code",
   "execution_count": 126,
   "metadata": {
    "collapsed": false
   },
   "outputs": [
    {
     "data": {
      "text/plain": [
       "square (generic function with 1 method)"
      ]
     },
     "execution_count": 126,
     "metadata": {},
     "output_type": "execute_result"
    }
   ],
   "source": [
    "square(x::Number) = x*x"
   ]
  },
  {
   "cell_type": "markdown",
   "metadata": {},
   "source": [
    "**There is no performance penalty for using abstract types**. Recall that at each function call Julia calls a compiled version of that function that is specific for the types of the arguments. The types of arguments are always concrete, since you can not instantiate abstract types. If Julia knows the concrete type of your variable at compile-time, it will produce specialized and efficient code for `square(x)`."
   ]
  },
  {
   "cell_type": "code",
   "execution_count": null,
   "metadata": {
    "collapsed": true
   },
   "outputs": [],
   "source": []
  },
  {
   "cell_type": "code",
   "execution_count": null,
   "metadata": {
    "collapsed": true
   },
   "outputs": [],
   "source": []
  }
 ],
 "metadata": {
  "kernelspec": {
   "display_name": "Julia 0.4.0",
   "language": "julia",
   "name": "julia-0.4"
  },
  "language_info": {
   "file_extension": ".jl",
   "mimetype": "application/julia",
   "name": "julia",
   "version": "0.4.0"
  }
 },
 "nbformat": 4,
 "nbformat_minor": 0
}
